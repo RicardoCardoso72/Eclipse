{
  "nbformat": 4,
  "nbformat_minor": 0,
  "metadata": {
    "colab": {
      "provenance": [],
      "authorship_tag": "ABX9TyPkZnc/hjR5QA1+YEMHpiud",
      "include_colab_link": true
    },
    "kernelspec": {
      "name": "python3",
      "display_name": "Python 3"
    },
    "language_info": {
      "name": "python"
    }
  },
  "cells": [
    {
      "cell_type": "markdown",
      "metadata": {
        "id": "view-in-github",
        "colab_type": "text"
      },
      "source": [
        "<a href=\"https://colab.research.google.com/github/RicardoCardoso72/Eclipse/blob/main/Untitled0.ipynb\" target=\"_parent\"><img src=\"https://colab.research.google.com/assets/colab-badge.svg\" alt=\"Open In Colab\"/></a>"
      ]
    },
    {
      "cell_type": "code",
      "execution_count": 1,
      "metadata": {
        "colab": {
          "base_uri": "https://localhost:8080/"
        },
        "id": "Ml9F7Sb5zV85",
        "outputId": "b9a9cdd3-0ab5-4f4d-c257-69e1ed4151ba"
      },
      "outputs": [
        {
          "output_type": "execute_result",
          "data": {
            "text/plain": [
              "86400"
            ]
          },
          "metadata": {},
          "execution_count": 1
        }
      ],
      "source": [
        "seconds_in_day = 60 * 60 * 24\n",
        "seconds_in_day"
      ]
    },
    {
      "cell_type": "markdown",
      "source": [],
      "metadata": {
        "id": "7oAnxdO60Z6T"
      }
    },
    {
      "cell_type": "code",
      "source": [
        "x = int(input(\"Digite o primeiro numero X = \"))\n",
        "y = int(input(\"Digite o segundo numero Y = \"))\n",
        "mat = int(0)\n",
        "op = int(input(\"Agora Escolha o numero da operação:  \\n(1)Somar , \\n(2)Diminuir , \\n(3) Multiplicar , \\n(4) Dividir \\n A Operação esoolhida é =  \"))\n",
        "#while op <= 4:\n",
        "if op == 1:\n",
        "    mat =  x + y\n",
        "    print(\"\\n O resultado da operação é: \" )\n",
        "    print(mat)\n",
        "if op == 2:\n",
        "    mat = x - y\n",
        "    print(\"\\n O resultado da operação é: \" )\n",
        "    print(mat)\n",
        "if op == 3:\n",
        "    mat = x * y\n",
        "    print(\"\\n O resultado da operação é: \" )\n",
        "    print(mat)\n",
        "if op == 4:\n",
        "    mat = x / y\n",
        "    print(\"\\n O resultado da operação é: \" )\n",
        "    print(mat)\n",
        "else:\n",
        "    print(\"Tenha um lindo dia!!! \")\n"
      ],
      "metadata": {
        "colab": {
          "base_uri": "https://localhost:8080/"
        },
        "id": "KWZWODi80ahD",
        "outputId": "8b82d4cf-2615-4540-a7f0-9701fa43fa1f"
      },
      "execution_count": 4,
      "outputs": [
        {
          "output_type": "stream",
          "name": "stdout",
          "text": [
            "Digite o primeiro numero X = 6\n",
            "Digite o segundo numero Y = 8\n",
            "Agora Escolha o numero da operação:  \n",
            "(1)Somar , \n",
            "(2)Diminuir , \n",
            "(3) Multiplicar , \n",
            "(4) Dividir \n",
            " A Operação esoolhida é =  2\n",
            "\n",
            " O resultado da operação é: \n",
            "-2\n",
            "Tenha um lindo dia!!! \n"
          ]
        }
      ]
    }
  ]
}