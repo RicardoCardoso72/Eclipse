{
  "nbformat": 4,
  "nbformat_minor": 0,
  "metadata": {
    "colab": {
      "provenance": [],
      "collapsed_sections": [],
      "authorship_tag": "ABX9TyOiid51azb0oHpQQGcEoF7M",
      "include_colab_link": true
    },
    "kernelspec": {
      "name": "python3",
      "display_name": "Python 3"
    },
    "language_info": {
      "name": "python"
    }
  },
  "cells": [
    {
      "cell_type": "markdown",
      "metadata": {
        "id": "view-in-github",
        "colab_type": "text"
      },
      "source": [
        "<a href=\"https://colab.research.google.com/github/RicardoCardoso72/Eclipse/blob/main/C%C3%B3pia_de_Teste1.ipynb\" target=\"_parent\"><img src=\"https://colab.research.google.com/assets/colab-badge.svg\" alt=\"Open In Colab\"/></a>"
      ]
    },
    {
      "cell_type": "code",
      "execution_count": null,
      "metadata": {
        "colab": {
          "base_uri": "https://localhost:8080/"
        },
        "id": "Ml9F7Sb5zV85",
        "outputId": "d300fa7c-85ca-483f-a735-f2bee9584e18"
      },
      "outputs": [
        {
          "output_type": "stream",
          "name": "stdout",
          "text": [
            "Digite um número:\n",
            "8\n",
            "Digite um número:\n",
            "9\n",
            "Digite um número:\n",
            "5\n",
            "Digite um número:\n",
            "2\n",
            "[8, 9, 5, 2]\n"
          ]
        }
      ],
      "source": [
        "lista = []\n",
        "tamanho = 4\n",
        "\n",
        "for i in range(tamanho):\n",
        "  num = int(input(\"Digite um número:\\n\"))\n",
        "  lista.append(num)\n",
        "  \n",
        "print(lista)"
      ]
    },
    {
      "cell_type": "markdown",
      "source": [],
      "metadata": {
        "id": "7oAnxdO60Z6T"
      }
    },
    {
      "cell_type": "code",
      "source": [],
      "metadata": {
        "colab": {
          "base_uri": "https://localhost:8080/"
        },
        "id": "KWZWODi80ahD",
        "outputId": "8b82d4cf-2615-4540-a7f0-9701fa43fa1f"
      },
      "execution_count": null,
      "outputs": [
        {
          "output_type": "stream",
          "name": "stdout",
          "text": [
            "Digite o primeiro numero X = 6\n",
            "Digite o segundo numero Y = 8\n",
            "Agora Escolha o numero da operação:  \n",
            "(1)Somar , \n",
            "(2)Diminuir , \n",
            "(3) Multiplicar , \n",
            "(4) Dividir \n",
            " A Operação esoolhida é =  2\n",
            "\n",
            " O resultado da operação é: \n",
            "-2\n",
            "Tenha um lindo dia!!! \n"
          ]
        }
      ]
    }
  ]
}